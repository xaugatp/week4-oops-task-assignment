{
 "cells": [
  {
   "cell_type": "code",
   "execution_count": 1,
   "id": "d211a9ec-4211-470a-aff3-9b05b00d6efa",
   "metadata": {},
   "outputs": [
    {
     "data": {
      "text/plain": [
       "'Q1, Create a vehicle class with an init method having instance variables as name_of_vehicle, max_speed\\nand average_of_vehicle.'"
      ]
     },
     "execution_count": 1,
     "metadata": {},
     "output_type": "execute_result"
    }
   ],
   "source": [
    "'''Q1, Create a vehicle class with an init method having instance variables as name_of_vehicle, max_speed\n",
    "and average_of_vehicle.'''"
   ]
  },
  {
   "cell_type": "code",
   "execution_count": 2,
   "id": "65e27575-247d-4830-b71f-b2fcc730ad33",
   "metadata": {},
   "outputs": [],
   "source": [
    "class Vehicle:\n",
    "    def __init__(self,name_of_vehicle,max_speed,average_of_vehicle):\n",
    "        self.name_of_vehicle = name_of_vehicle\n",
    "        self.max_speed = max_speed\n",
    "        self.average_of_vehicle = average_of_vehicle\n",
    "        "
   ]
  },
  {
   "cell_type": "code",
   "execution_count": 3,
   "id": "09abf710-d5d5-4ac8-87c1-f44af2179624",
   "metadata": {},
   "outputs": [
    {
     "data": {
      "text/plain": [
       "'Q2. Create a child class car from the vehicle class created in Que 1, which will inherit the vehicle class.\\nCreate a method named seating_capacity which takes capacity as an argument and returns the name of\\nthe vehicle and its seating capacity.'"
      ]
     },
     "execution_count": 3,
     "metadata": {},
     "output_type": "execute_result"
    }
   ],
   "source": [
    "'''Q2. Create a child class car from the vehicle class created in Que 1, which will inherit the vehicle class.\n",
    "Create a method named seating_capacity which takes capacity as an argument and returns the name of\n",
    "the vehicle and its seating capacity.'''"
   ]
  },
  {
   "cell_type": "code",
   "execution_count": 4,
   "id": "e2cec995-5d64-4c5c-afc2-f83647a5ce70",
   "metadata": {},
   "outputs": [],
   "source": [
    "class Car(Vehicle):\n",
    "    def __init__(self,num_wheels,name_of_vehicle,max_speed,average_of_vehicle):\n",
    "        self.num_wheels = num_wheels\n",
    "        self.name_of_vehicle = name_of_vehicle\n",
    "        self.max_speed = max_speed\n",
    "        self.average_of_vehicle = average_of_vehicle\n",
    "    def seating_capacity(self,capacity):\n",
    "          return f\"The {self.name_of_vehicle} has a seating capacity of {capacity} people.\"\n",
    "    "
   ]
  },
  {
   "cell_type": "code",
   "execution_count": 5,
   "id": "7d825f21-6e2f-4418-97f8-0801032aee2a",
   "metadata": {},
   "outputs": [
    {
     "data": {
      "text/plain": [
       "'Q3. What is multiple inheritance? Write a python code to demonstrate multiple inheritance.'"
      ]
     },
     "execution_count": 5,
     "metadata": {},
     "output_type": "execute_result"
    }
   ],
   "source": [
    "'''Q3. What is multiple inheritance? Write a python code to demonstrate multiple inheritance.'''"
   ]
  },
  {
   "cell_type": "code",
   "execution_count": 10,
   "id": "ffb282af-721d-4cdf-ad44-7f28e21bdd16",
   "metadata": {},
   "outputs": [],
   "source": [
    "#--->Multiple inheritance is a feature in object-oriented programming language that allows a class to inherit attributes and methods from multiple parent classes.\n",
    "class Animal:\n",
    "    def __init__(self,name):\n",
    "        self.name = name\n",
    "    def age(self,age):\n",
    "        self.age = age\n",
    "class Birds:\n",
    "    def fly(self,fly):\n",
    "        self.fly = fly\n",
    "class Parrot(Animal,Birds):\n",
    "    def __init__(self,name):\n",
    "        super().__init__(name)\n",
    "        \n",
    "    def age(self,age):\n",
    "        self.age = age\n",
    "        \n",
    "parrot = Parrot(\"pattu\")\n",
    "parrot.age(2)\n",
    "parrot.fly(\"infinite\")"
   ]
  },
  {
   "cell_type": "code",
   "execution_count": 11,
   "id": "509c7174-ac67-46db-b019-2eeb833555b1",
   "metadata": {},
   "outputs": [
    {
     "data": {
      "text/plain": [
       "'Q4. What are getter and setter in python? Create a class and create a getter and a setter method in this\\nclass.'"
      ]
     },
     "execution_count": 11,
     "metadata": {},
     "output_type": "execute_result"
    }
   ],
   "source": [
    "'''Q4. What are getter and setter in python? Create a class and create a getter and a setter method in this\n",
    "class.'''"
   ]
  },
  {
   "cell_type": "code",
   "execution_count": 12,
   "id": "9aaf70d3-9907-4aae-90dd-06e0abcdfd77",
   "metadata": {},
   "outputs": [
    {
     "name": "stdout",
     "output_type": "stream",
     "text": [
      "Khim\n",
      "Ashim\n"
     ]
    }
   ],
   "source": [
    "#--->Getters and setters are the methods used to acess and modify the values of class attributes or properties.Getter method is used to retrive the value of an attribute, it doesnot directly access the\n",
    "#attribute but provides a controlled way to acess it.Setter method is used to aet the value of an attribute, it allows us to perform validation or other operations before assigning a value to an attribute.\n",
    "class Person:\n",
    "    def __init__(self,name):\n",
    "        self.name = name\n",
    "    def get_name(self):\n",
    "        return self.name\n",
    "    def set_name(self,name):\n",
    "        self.name = name\n",
    "\n",
    "#Creating the instance of the Person Class\n",
    "person = Person(\"Khim\")\n",
    "\n",
    "#Using the getter method to retrive the name\n",
    "print(person.get_name())\n",
    "\n",
    "#Using the setter method to update the name\n",
    "person.set_name(\"Ashim\")\n",
    "print(person.get_name())"
   ]
  },
  {
   "cell_type": "code",
   "execution_count": 13,
   "id": "08c8fb20-035f-4112-acda-a27b1ffcbfbf",
   "metadata": {},
   "outputs": [
    {
     "data": {
      "text/plain": [
       "'Q5.What is method overriding in python? Write a python code to demonstrate method overriding.'"
      ]
     },
     "execution_count": 13,
     "metadata": {},
     "output_type": "execute_result"
    }
   ],
   "source": [
    "'''Q5.What is method overriding in python? Write a python code to demonstrate method overriding.'''"
   ]
  },
  {
   "cell_type": "code",
   "execution_count": 14,
   "id": "953b6f82-d5ad-46f2-bee9-741e8dc43dce",
   "metadata": {},
   "outputs": [
    {
     "name": "stdout",
     "output_type": "stream",
     "text": [
      "Calculating area in the Shape class.\n",
      "Calculating area in the Rectangle class.\n"
     ]
    }
   ],
   "source": [
    "'''Method overriding in Python is a feature that allows a subclass to provide a different implementation of a method that is already defined in its superclass. It allows the subclass to modify the\n",
    "behavior of the inherited method according to its specific needs.'''\n",
    "class Shape:\n",
    "    def area(self):\n",
    "        print(\"Calculating area in the Shape class.\")\n",
    "\n",
    "class Rectangle(Shape):\n",
    "    def area(self):\n",
    "        print(\"Calculating area in the Rectangle class.\")\n",
    "\n",
    "# Creating instances of the classes\n",
    "shape = Shape()\n",
    "rectangle = Rectangle()\n",
    "\n",
    "# Calling the area() method on the instances\n",
    "shape.area()       # Output: Calculating area in the Shape class.\n",
    "rectangle.area()   # Output: Calculating area in the Rectangle class.\n"
   ]
  },
  {
   "cell_type": "code",
   "execution_count": null,
   "id": "ee92361c-57a5-4b73-9679-6d5eedb5131a",
   "metadata": {},
   "outputs": [],
   "source": []
  }
 ],
 "metadata": {
  "kernelspec": {
   "display_name": "Python 3 (ipykernel)",
   "language": "python",
   "name": "python3"
  },
  "language_info": {
   "codemirror_mode": {
    "name": "ipython",
    "version": 3
   },
   "file_extension": ".py",
   "mimetype": "text/x-python",
   "name": "python",
   "nbconvert_exporter": "python",
   "pygments_lexer": "ipython3",
   "version": "3.10.8"
  }
 },
 "nbformat": 4,
 "nbformat_minor": 5
}
